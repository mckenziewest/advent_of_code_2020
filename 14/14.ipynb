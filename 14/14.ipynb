{
 "cells": [
  {
   "cell_type": "code",
   "execution_count": 1,
   "metadata": {},
   "outputs": [],
   "source": [
    "with open('input.txt') as the_data:\n",
    "    big_string = the_data.read().strip()"
   ]
  },
  {
   "cell_type": "code",
   "execution_count": 2,
   "metadata": {},
   "outputs": [],
   "source": [
    "mask_splits = [s.rstrip('\\n').split('\\n') for s in big_string.split('mask = ') if s != '']"
   ]
  },
  {
   "cell_type": "code",
   "execution_count": 3,
   "metadata": {},
   "outputs": [],
   "source": [
    "def proc_line(line):\n",
    "    sline = line.split(\" = \")\n",
    "    index = int(sline[0][4:-1])\n",
    "    val = int(sline[1])\n",
    "    return index,val"
   ]
  },
  {
   "cell_type": "code",
   "execution_count": 4,
   "metadata": {},
   "outputs": [],
   "source": [
    "mask_splits = [[m[0]] + [proc_line(l) for l in m[1:]] for m in mask_splits]"
   ]
  },
  {
   "cell_type": "markdown",
   "metadata": {},
   "source": [
    "# Part 1 - Masks apply to values"
   ]
  },
  {
   "cell_type": "code",
   "execution_count": 5,
   "metadata": {},
   "outputs": [],
   "source": [
    "def apply_mask(row,val_dict):\n",
    "    mask = row[0]\n",
    "    mask_values = [(i,mask[i]) for i in range(len(mask)) if mask[i]!='X']\n",
    "    for ind, num in row[1:]:\n",
    "        as_bin = '0'*(38-len(bin(num))) + bin(num)[2:]\n",
    "        for mind, b in mask_values:\n",
    "            bin_list = list(as_bin)\n",
    "            bin_list[mind] = b\n",
    "            as_bin = ''.join(bin_list)\n",
    "        val_dict[ind] = int(as_bin,base=2)\n",
    "    return val_dict"
   ]
  },
  {
   "cell_type": "code",
   "execution_count": 6,
   "metadata": {},
   "outputs": [
    {
     "name": "stdout",
     "output_type": "stream",
     "text": [
      "Part 1 Solution\n",
      "5055782549997\n"
     ]
    }
   ],
   "source": [
    "val_dict = {}\n",
    "for row in mask_splits:\n",
    "    val_dict = apply_mask(row,val_dict)\n",
    "print(\"Part 1 Solution\")\n",
    "print(sum(val_dict.values()))"
   ]
  },
  {
   "cell_type": "markdown",
   "metadata": {},
   "source": [
    "# Part 2 - Masks apply to keys"
   ]
  },
  {
   "cell_type": "code",
   "execution_count": 7,
   "metadata": {},
   "outputs": [],
   "source": [
    "def mask_key(mask, key):\n",
    "    bin_key = list('0'*(38-len(bin(key))) + bin(key)[2:])\n",
    "    for ii in range(len(mask)):\n",
    "        if mask[ii] == '0':\n",
    "            continue\n",
    "        else:\n",
    "            bin_key[ii] = mask[ii]\n",
    "    all_keys = [bin_key]\n",
    "    while 'X' in all_keys[0]:\n",
    "        ii = all_keys[0].index('X')\n",
    "        new_keys = []\n",
    "        for key in all_keys:\n",
    "            zkey = key.copy()\n",
    "            zkey[ii] = '0'\n",
    "            okey = key.copy()\n",
    "            okey[ii] = '1'\n",
    "            new_keys.append(zkey)\n",
    "            new_keys.append(okey)\n",
    "        all_keys = new_keys\n",
    "    return [int(''.join(key),base=2) for key in all_keys]\n"
   ]
  },
  {
   "cell_type": "code",
   "execution_count": 8,
   "metadata": {},
   "outputs": [
    {
     "name": "stdout",
     "output_type": "stream",
     "text": [
      "4795970362286\n"
     ]
    }
   ],
   "source": [
    "part_2_dict = {}\n",
    "for row in mask_splits:\n",
    "    mask = row[0]\n",
    "    for ind, num in row[1:]:\n",
    "        new_indices = mask_key(mask,ind)\n",
    "        for ii in new_indices:\n",
    "            part_2_dict[ii] = num\n",
    "print(sum(part_2_dict.values()))"
   ]
  },
  {
   "cell_type": "code",
   "execution_count": null,
   "metadata": {},
   "outputs": [],
   "source": []
  }
 ],
 "metadata": {
  "kernelspec": {
   "display_name": "Python 3",
   "language": "python",
   "name": "python3"
  },
  "language_info": {
   "codemirror_mode": {
    "name": "ipython",
    "version": 3
   },
   "file_extension": ".py",
   "mimetype": "text/x-python",
   "name": "python",
   "nbconvert_exporter": "python",
   "pygments_lexer": "ipython3",
   "version": "3.6.5"
  }
 },
 "nbformat": 4,
 "nbformat_minor": 2
}
