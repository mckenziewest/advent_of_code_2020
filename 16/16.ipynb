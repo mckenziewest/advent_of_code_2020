{
 "cells": [
  {
   "cell_type": "code",
   "execution_count": 1,
   "metadata": {},
   "outputs": [],
   "source": [
    "with open('nearby_tickets.txt') as the_data:\n",
    "    nearby = [[int(a) for a in r.split(',')] for r in the_data.read().split('\\n') if r!='']"
   ]
  },
  {
   "cell_type": "code",
   "execution_count": 2,
   "metadata": {},
   "outputs": [],
   "source": [
    "invalid = 0\n",
    "valid_tickets = []\n",
    "hit = False\n",
    "for r in nearby:\n",
    "    for v in r:\n",
    "        if v<25 or v>974:\n",
    "            invalid += v\n",
    "            hit = True\n",
    "    if hit:\n",
    "        hit = False\n",
    "    else:\n",
    "        valid_tickets.append(r)"
   ]
  },
  {
   "cell_type": "code",
   "execution_count": 3,
   "metadata": {},
   "outputs": [
    {
     "data": {
      "text/plain": [
       "19240"
      ]
     },
     "execution_count": 3,
     "metadata": {},
     "output_type": "execute_result"
    }
   ],
   "source": [
    "invalid"
   ]
  },
  {
   "cell_type": "code",
   "execution_count": 4,
   "metadata": {},
   "outputs": [
    {
     "data": {
      "text/plain": [
       "('(', '1', ',', '2', ')')"
      ]
     },
     "execution_count": 4,
     "metadata": {},
     "output_type": "execute_result"
    }
   ],
   "source": [
    "tuple('(1,2)')"
   ]
  },
  {
   "cell_type": "code",
   "execution_count": 5,
   "metadata": {},
   "outputs": [],
   "source": [
    "with open('keys.txt') as the_data:\n",
    "    keys = {r.split(': ')[0]:r.split(': ')[1] for r in the_data.read().split('\\n')}"
   ]
  },
  {
   "cell_type": "code",
   "execution_count": 6,
   "metadata": {},
   "outputs": [],
   "source": [
    "for key in keys:\n",
    "    ranges = keys[key].split(' or ')\n",
    "    for ii in [0,1]:\n",
    "        ranges[ii] = [int(a) for a in ranges[ii].split('-')]\n",
    "    keys[key] = ranges\n",
    "    "
   ]
  },
  {
   "cell_type": "code",
   "execution_count": 7,
   "metadata": {},
   "outputs": [
    {
     "data": {
      "text/plain": [
       "{'departure location': [[32, 174], [190, 967]],\n",
       " 'departure station': [[50, 580], [588, 960]],\n",
       " 'departure platform': [[35, 595], [621, 972]],\n",
       " 'departure track': [[41, 85], [104, 962]],\n",
       " 'departure date': [[39, 293], [299, 964]],\n",
       " 'departure time': [[44, 192], [215, 962]],\n",
       " 'arrival location': [[46, 238], [255, 963]],\n",
       " 'arrival station': [[44, 721], [731, 960]],\n",
       " 'arrival platform': [[29, 826], [846, 958]],\n",
       " 'arrival track': [[49, 525], [543, 953]],\n",
       " 'class': [[43, 804], [827, 955]],\n",
       " 'duration': [[48, 273], [291, 959]],\n",
       " 'price': [[45, 767], [793, 967]],\n",
       " 'route': [[44, 300], [311, 962]],\n",
       " 'row': [[25, 119], [140, 954]],\n",
       " 'seat': [[38, 389], [410, 974]],\n",
       " 'train': [[29, 697], [714, 968]],\n",
       " 'type': [[32, 55], [65, 968]],\n",
       " 'wagon': [[39, 642], [660, 955]],\n",
       " 'zone': [[41, 567], [578, 959]]}"
      ]
     },
     "execution_count": 7,
     "metadata": {},
     "output_type": "execute_result"
    }
   ],
   "source": [
    "keys"
   ]
  },
  {
   "cell_type": "code",
   "execution_count": 8,
   "metadata": {},
   "outputs": [],
   "source": [
    "from itertools import permutations\n",
    "poss_names = permutations(keys.keys())\n",
    "ii = 0\n"
   ]
  },
  {
   "cell_type": "code",
   "execution_count": 9,
   "metadata": {},
   "outputs": [],
   "source": [
    "possible_keys = [[] for v in range(len(valid_tickets[0]))]\n",
    "bad = False\n",
    "for ii in range(len(valid_tickets[0])):\n",
    "    for k in keys:\n",
    "        for jj in range(len(valid_tickets)):\n",
    "            ranges = keys[k]\n",
    "            t = valid_tickets[jj]\n",
    "            if t[ii] < ranges[0][0] or (t[ii] > ranges[0][1] and t[ii] < ranges[1][0]) or t[ii] >ranges[1][1]:\n",
    "                bad = True\n",
    "                break\n",
    "        if not bad:\n",
    "            possible_keys[ii].append(k)\n",
    "        else:\n",
    "            bad = False"
   ]
  },
  {
   "cell_type": "code",
   "execution_count": 10,
   "metadata": {},
   "outputs": [],
   "source": [
    "actual_labels = ['']*len(possible_keys)\n",
    "while any(l == '' for l in actual_labels):\n",
    "    for ii in range(len(possible_keys)):\n",
    "        if len(possible_keys[ii]) == 1:\n",
    "            actual_labels[ii] = possible_keys[ii][0]\n",
    "    for pk in possible_keys:\n",
    "        for al in actual_labels:\n",
    "            if al in pk:\n",
    "                pk.pop(pk.index(al))    "
   ]
  },
  {
   "cell_type": "code",
   "execution_count": 11,
   "metadata": {},
   "outputs": [
    {
     "data": {
      "text/plain": [
       "['arrival track',\n",
       " 'price',\n",
       " 'wagon',\n",
       " 'route',\n",
       " 'seat',\n",
       " 'type',\n",
       " 'departure date',\n",
       " 'departure time',\n",
       " 'zone',\n",
       " 'arrival location',\n",
       " 'departure platform',\n",
       " 'class',\n",
       " 'duration',\n",
       " 'row',\n",
       " 'arrival platform',\n",
       " 'train',\n",
       " 'arrival station',\n",
       " 'departure station',\n",
       " 'departure location',\n",
       " 'departure track']"
      ]
     },
     "execution_count": 11,
     "metadata": {},
     "output_type": "execute_result"
    }
   ],
   "source": [
    "actual_labels"
   ]
  },
  {
   "cell_type": "code",
   "execution_count": 12,
   "metadata": {},
   "outputs": [],
   "source": [
    "my_ticket = [149,73,71,107,113,151,223,67,163,53,173,167,109,79,191,233,83,227,229,157]\n",
    "value = 1\n",
    "for ii in range(len(actual_labels)):\n",
    "    if 'departure' in actual_labels[ii]:\n",
    "        value *= my_ticket[ii]"
   ]
  },
  {
   "cell_type": "code",
   "execution_count": 13,
   "metadata": {},
   "outputs": [
    {
     "data": {
      "text/plain": [
       "21095351239483"
      ]
     },
     "execution_count": 13,
     "metadata": {},
     "output_type": "execute_result"
    }
   ],
   "source": [
    "value"
   ]
  },
  {
   "cell_type": "code",
   "execution_count": null,
   "metadata": {},
   "outputs": [],
   "source": []
  }
 ],
 "metadata": {
  "kernelspec": {
   "display_name": "Python 3",
   "language": "python",
   "name": "python3"
  },
  "language_info": {
   "codemirror_mode": {
    "name": "ipython",
    "version": 3
   },
   "file_extension": ".py",
   "mimetype": "text/x-python",
   "name": "python",
   "nbconvert_exporter": "python",
   "pygments_lexer": "ipython3",
   "version": "3.6.5"
  }
 },
 "nbformat": 4,
 "nbformat_minor": 2
}
